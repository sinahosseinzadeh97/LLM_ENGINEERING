{
 "cells": [
  {
   "cell_type": "code",
   "execution_count": 1,
   "id": "c7437601-5d0e-4380-9d75-2182fca21a16",
   "metadata": {
    "tags": []
   },
   "outputs": [],
   "source": [
    "#Imports\n",
    "import os\n",
    "import requests\n",
    "import json\n",
    "from typing import List\n",
    "from dotenv import load_dotenv\n",
    "from bs4 import BeautifulSoup\n",
    "from IPython.display import Markdown,display,update_display\n",
    "from openai import OpenAI"
   ]
  },
  {
   "cell_type": "code",
   "execution_count": 5,
   "id": "7aba2141-83bb-49e8-bc57-f65ff8ee11a9",
   "metadata": {
    "tags": []
   },
   "outputs": [
    {
     "name": "stdout",
     "output_type": "stream",
     "text": [
      "API key found and looks good so far!\n"
     ]
    }
   ],
   "source": [
    "#Load Enviroment variables in a file called .env and Intialize Contstans\n",
    "load_dotenv()\n",
    "api_key = os.getenv('OPEN_API_KEY')\n",
    "#Check the key\n",
    "if not api_key:\n",
    "    print(\"No Api key was found\")\n",
    "elif api_key.strip() !=api_key:\n",
    "    print(\"An API key was foun,but it looks like it might have a space or tab charachters at the start or end-please remove it\")\n",
    "else:\n",
    "    print(\"API key found and looks good so far!\")\n",
    "MODEL='gpt-4o-mini'\n",
    "openai = OpenAI(api_key=api_key)"
   ]
  },
  {
   "cell_type": "code",
   "execution_count": 6,
   "id": "f883f51b-2642-42e3-9160-3feee5c3a452",
   "metadata": {
    "tags": []
   },
   "outputs": [],
   "source": [
    "# A class to represent a Webpage\n",
    "\n",
    "# Some websites need you to use proper headers when fetching them:\n",
    "headers = {\n",
    " \"User-Agent\": \"Mozilla/5.0 (Windows NT 10.0; Win64; x64) AppleWebKit/537.36 (KHTML, like Gecko) Chrome/117.0.0.0 Safari/537.36\"\n",
    "}\n",
    "\n",
    "class Website:\n",
    "    \"\"\"\n",
    "    A utility class to represent a Website that we have scraped, now with links\n",
    "    \"\"\"\n",
    "\n",
    "    def __init__(self, url):\n",
    "        self.url = url\n",
    "        response = requests.get(url, headers=headers)\n",
    "        self.body = response.content\n",
    "        soup = BeautifulSoup(self.body, 'html.parser')\n",
    "        self.title = soup.title.string if soup.title else \"No title found\"\n",
    "        if soup.body:\n",
    "            for irrelevant in soup.body([\"script\", \"style\", \"img\", \"input\"]):\n",
    "                irrelevant.decompose()\n",
    "            self.text = soup.body.get_text(separator=\"\\n\", strip=True)\n",
    "        else:\n",
    "            self.text = \"\"\n",
    "        links = [link.get('href') for link in soup.find_all('a')]\n",
    "        self.links = [link for link in links if link]\n",
    "\n",
    "    def get_contents(self):\n",
    "        return f\"Webpage Title:\\n{self.title}\\nWebpage Contents:\\n{self.text}\\n\\n\"\n",
    "    "
   ]
  },
  {
   "cell_type": "code",
   "execution_count": 11,
   "id": "e18b32e7-2f2f-45ab-8b6b-dfb7b993dc3a",
   "metadata": {
    "tags": []
   },
   "outputs": [
    {
     "name": "stdout",
     "output_type": "stream",
     "text": [
      "Webpage Title:\n",
      "Home - Edward Donner\n",
      "Webpage Contents:\n",
      "Home\n",
      "Connect Four\n",
      "Outsmart\n",
      "An arena that pits LLMs against each other in a battle of diplomacy and deviousness\n",
      "About\n",
      "Posts\n",
      "Well, hi there.\n",
      "I’m Ed. I like writing code and experimenting with LLMs, and hopefully you’re here because you do too. I also enjoy DJing (but I’m badly out of practice), amateur electronic music production (\n",
      "very\n",
      "amateur) and losing myself in\n",
      "Hacker News\n",
      ", nodding my head sagely to things I only half understand.\n",
      "I’m the co-founder and CTO of\n",
      "Nebula.io\n",
      ". We’re applying AI to a field where it can make a massive, positive impact: helping people discover their potential and pursue their reason for being. Recruiters use our product today to source, understand, engage and manage talent. I’m previously the founder and CEO of AI startup untapt,\n",
      "acquired in 2021\n",
      ".\n",
      "We work with groundbreaking, proprietary LLMs verticalized for talent, we’ve\n",
      "patented\n",
      "our matching model, and our award-winning platform has happy customers and tons of press coverage.\n",
      "Connect\n",
      "with me for more!\n",
      "January 23, 2025\n",
      "LLM Workshop – Hands-on with Agents – resources\n",
      "December 21, 2024\n",
      "Welcome, SuperDataScientists!\n",
      "November 13, 2024\n",
      "Mastering AI and LLM Engineering – Resources\n",
      "October 16, 2024\n",
      "From Software Engineer to AI Data Scientist – resources\n",
      "Navigation\n",
      "Home\n",
      "Connect Four\n",
      "Outsmart\n",
      "An arena that pits LLMs against each other in a battle of diplomacy and deviousness\n",
      "About\n",
      "Posts\n",
      "Get in touch\n",
      "ed [at] edwarddonner [dot] com\n",
      "www.edwarddonner.com\n",
      "Follow me\n",
      "LinkedIn\n",
      "Twitter\n",
      "Facebook\n",
      "Subscribe to newsletter\n",
      "Type your email…\n",
      "Subscribe\n",
      "\n",
      "\n"
     ]
    }
   ],
   "source": [
    "cnn=Website(\"https://cnn.com\")\n",
    "print(ed.get_contents())"
   ]
  },
  {
   "cell_type": "code",
   "execution_count": 25,
   "id": "bf6647c4-2570-465e-8c06-5630f878e7dd",
   "metadata": {
    "tags": []
   },
   "outputs": [],
   "source": [
    "link_system_prompt = \"You are provided with a list of links found on a webpage. \\\n",
    "You are able to decide which of the links would be most relevant to include in a brochure about the company, \\\n",
    "such as links to an About page, or a Company page, or Careers/Jobs pages.\\n\"\n",
    "link_system_prompt += \"You should respond in JSON as in this example:\"\n",
    "link_system_prompt += \"\"\"\n",
    "{\n",
    "    \"links\": [\n",
    "        {\"type\": \"about page\", \"url\": \"https://full.url/goes/here/about\"},\n",
    "        {\"type\": \"careers page\": \"url\": \"https://another.full.url/careers\"}\n",
    "    ]\n",
    "}\n",
    "\"\"\""
   ]
  },
  {
   "cell_type": "code",
   "execution_count": 26,
   "id": "5e5f2deb-1ea9-47be-81ff-19bd0d13d4f9",
   "metadata": {
    "tags": []
   },
   "outputs": [
    {
     "name": "stdout",
     "output_type": "stream",
     "text": [
      "You are provided with a list of links found on a webpage. You are able to decide which of the links would be most relevant to include in a brochure about the company, such as links to an About page, or a Company page, or Careers/Jobs pages.\n",
      "You should respond in JSON as in this example:\n",
      "{\n",
      "    \"links\": [\n",
      "        {\"type\": \"about page\", \"url\": \"https://full.url/goes/here/about\"},\n",
      "        {\"type\": \"careers page\": \"url\": \"https://another.full.url/careers\"}\n",
      "    ]\n",
      "}\n",
      "\n"
     ]
    }
   ],
   "source": [
    "print(link_system_prompt)"
   ]
  },
  {
   "cell_type": "code",
   "execution_count": 27,
   "id": "da60687a-be2e-4030-be5d-6888acfde3eb",
   "metadata": {
    "tags": []
   },
   "outputs": [],
   "source": [
    "def get_links_user_prompt(website):\n",
    "    user_prompt = f\"Here is the list of links on the website of {website.url} - \"\n",
    "    user_prompt += \"please decide which of these are relevant web links for a brochure about the company, respond with the full https URL in JSON format. \\\n",
    "Do not include Terms of Service, Privacy, email links.\\n\"\n",
    "    user_prompt += \"Links (some might be relative links):\\n\"\n",
    "    user_prompt += \"\\n\".join(website.links)\n",
    "    return user_prompt"
   ]
  },
  {
   "cell_type": "code",
   "execution_count": 28,
   "id": "e4dda201-41de-4702-b179-ae9b0c986000",
   "metadata": {
    "tags": []
   },
   "outputs": [],
   "source": [
    "def get_links(url):\n",
    "    website = Website(url)\n",
    "    response = openai.chat.completions.create(\n",
    "        model=MODEL,\n",
    "        messages=[\n",
    "            {\"role\": \"system\", \"content\": link_system_prompt},\n",
    "            {\"role\": \"user\", \"content\": get_links_user_prompt(website)}\n",
    "      ],\n",
    "        response_format={\"type\": \"json_object\"}\n",
    "    )\n",
    "    result = response.choices[0].message.content\n",
    "    return json.loads(result)"
   ]
  },
  {
   "cell_type": "code",
   "execution_count": 29,
   "id": "632cbc71-5cfb-45b9-a8f6-544b854e1681",
   "metadata": {
    "tags": []
   },
   "outputs": [
    {
     "data": {
      "text/plain": [
       "{'links': [{'type': 'homepage', 'url': 'https://www.tgju.org'},\n",
       "  {'type': 'careers page', 'url': 'https://careers.tgju.org/fa/career'},\n",
       "  {'type': 'about page', 'url': 'https://www.tgju.org/applications'},\n",
       "  {'type': 'contact page', 'url': 'https://www.tgju.org/contact'},\n",
       "  {'type': 'glossary page', 'url': 'https://www.tgju.org/glossary/economics'}]}"
      ]
     },
     "execution_count": 29,
     "metadata": {},
     "output_type": "execute_result"
    }
   ],
   "source": [
    "get_links(\"https://www.tgju.org/currency\")"
   ]
  },
  {
   "cell_type": "code",
   "execution_count": 30,
   "id": "361dc3ce-7ce9-4811-974c-67ba98333086",
   "metadata": {
    "tags": []
   },
   "outputs": [],
   "source": [
    "#Make the brochure\n",
    "def get_all_details(url):\n",
    "    result = \"Landing page:\\n\"\n",
    "    result += Website(url).get_contents()\n",
    "    links = get_links(url)\n",
    "    print(\"Found links:\", links)\n",
    "    for link in links[\"links\"]:\n",
    "        result += f\"\\n\\n{link['type']}\\n\"\n",
    "        result += Website(link[\"url\"]).get_contents()\n",
    "    return result\n",
    "\n"
   ]
  },
  {
   "cell_type": "code",
   "execution_count": 33,
   "id": "2035f8c8-4fb9-4bd6-9dfc-acffd57aca17",
   "metadata": {
    "tags": []
   },
   "outputs": [],
   "source": [
    "#print(get_all_details('https://cnn.com'))"
   ]
  },
  {
   "cell_type": "code",
   "execution_count": 57,
   "id": "f3781434-deb9-4cfa-b4e4-bbeb29ff5d37",
   "metadata": {
    "tags": []
   },
   "outputs": [],
   "source": [
    "#Second Prompt\n",
    "#system_prompt = \"You are an assistant that analyzes the contents of several relevant pages from a company website \\\n",
    "#and creates a short brochure about the company for prospective customers, investors and recruits. Respond in markdown.\\\n",
    "#Include details of company culture, customers and careers/jobs if you have the information.\"\n",
    "system_prompt = \"You are an assistant that analyzes the contents of several relevant pages from a company website and find team and name of team \\\n",
    "and creates a short humorous, entertaining, jokey brochure about the company for prospective customers, investors and recruits. Respond in markdown.\\\n",
    "Include details of company culture, customers and careers/jobs if you have the information.\""
   ]
  },
  {
   "cell_type": "code",
   "execution_count": 58,
   "id": "0ab2aa81-7a9b-417c-a15d-9ecc101541a4",
   "metadata": {
    "tags": []
   },
   "outputs": [],
   "source": [
    "#Function for get_brochure\n",
    "def get_brochure_user_prompt(company_name, url):\n",
    "    user_prompt = f\"You are looking at a company called: {company_name}\\n\"\n",
    "    user_prompt += f\"Here are the contents of its landing page and other relevant pages; use this information to build a short brochure of the company in markdown.\\n\"\n",
    "    user_prompt += get_all_details(url)\n",
    "    user_prompt = user_prompt[:5_000] # Truncate if more than 5,000 characters\n",
    "    return user_prompt"
   ]
  },
  {
   "cell_type": "code",
   "execution_count": 59,
   "id": "6ee3178a-a3af-4ddc-a0a6-7ddd0ae5db57",
   "metadata": {
    "tags": []
   },
   "outputs": [],
   "source": [
    "#Function for Create a Brochure\n",
    "def create_brochure(company_name, url):\n",
    "    response = openai.chat.completions.create(\n",
    "        model=MODEL,\n",
    "        messages=[\n",
    "            {\"role\": \"system\", \"content\": system_prompt},\n",
    "            {\"role\": \"user\", \"content\": get_brochure_user_prompt(company_name, url)}\n",
    "          ],\n",
    "    )\n",
    "    result = response.choices[0].message.content\n",
    "    display(Markdown(result))"
   ]
  },
  {
   "cell_type": "code",
   "execution_count": 54,
   "id": "95853cbb-1c61-40a8-b82f-186e6a80b038",
   "metadata": {
    "tags": []
   },
   "outputs": [
    {
     "name": "stdout",
     "output_type": "stream",
     "text": [
      "Found links: {'links': [{'type': 'about page', 'url': 'http://bogariagency.com/about-farideh/'}, {'type': 'development page', 'url': 'http://bogariagency.com/development/'}, {'type': 'contact page', 'url': 'http://bogariagency.com/contact/'}, {'type': 'properties page', 'url': 'http://bogariagency.com/properties/'}, {'type': 'testimonials page', 'url': 'http://bogariagency.com/testimonials/'}, {'type': 'press page', 'url': 'http://bogariagency.com/press/'}]}\n"
     ]
    },
    {
     "data": {
      "text/markdown": [
       "```markdown\n",
       "# Welcome to Bogari International Realty! 🌟\n",
       "\n",
       "## Your Dream Home Awaits! 🏡\n",
       "\n",
       "Hey there, future homeowner, investor, or perhaps the world’s next real estate superstar! If you’re combing through the vast expanse of Los Angeles real estate like a toddler searching for toys in a messy room, you’ve stumbled upon the *magical entity* known as **Bogari International Realty**—where we don’t just buy and sell properties; we cook up dreams with a pinch of luxury and a dash of elegance!\n",
       "\n",
       "---\n",
       "\n",
       "### Who is Faye Bogari? 🍸\n",
       "\n",
       "Meet *Farideh (Faye) Bogari*, the mastermind behind Bogari International Realty! With over two decades steering through the tricky waters of the L.A. property market, she’s like the Superwoman of real estate—complete with a cape made of high-end contracts! 🦸‍♀️\n",
       "\n",
       "Faye doesn’t just acquire and develop properties; she transforms spaces that would make even *Bob the Builder* raise a glass! From residential palaces to commercial empires, she’s your gal.\n",
       "\n",
       "---\n",
       "\n",
       "### Why Choose Us? 🎉\n",
       "\n",
       "- **Expertise Like No Other:** Our Faye has the *knowledge* of the market, the *skills* of a ninja negotiator, and a heart so big it could contain the Los Angeles skyline.\n",
       "  \n",
       "- **Client-Centric Approach:** As one happy tenant summed it up, “Faye makes everything easy.” And if you ask nicely, she might even throw in a rooftop mini-golf course! (Just kidding... or are we?)\n",
       "\n",
       "- **Prime Locations:** Beverly Hills? Check! New York? You betcha! Vienna? Oui, oui! We’re basically your international ticket to living fabulously.\n",
       "\n",
       "---\n",
       "\n",
       "### Who's Our Typical Customer? 👥\n",
       "\n",
       "Everyone from first-time homebuyers to seasoned investors, and the coolest consulates around — yes, we cater to *all* sorts! Our clients love us, and they’re not shy about showing it. Don’t believe us? Just check out the testimonials; we’re practically blushing over here.\n",
       "\n",
       "**Testimonial Shoutout! 🎙️**\n",
       "*“Faye is not just a realtor; she’s a magician! She turned my complicated embassy deal into a piece of cake, and I’m still waiting for the frosting!”* - Hassan Shawaf\n",
       "\n",
       "---\n",
       "\n",
       "### Join the Bogari Family! 👩‍👩‍👦\n",
       "\n",
       "Thinking about joining our incredible team? Here’s what you'll encounter when you step through our not-so-secret doors (which may or may not be lined with gold):\n",
       "\n",
       "- A company culture that’s as welcoming as a grandma’s hugs! We're serious about hard work and generous with the fun!\n",
       "- Opportunities to work alongside real estate royalty and learn from the cleverly crafty Faye (watch out; she keeps chocolate on her desk as a motivator!).\n",
       "- A vibrant, proactive atmosphere where both the coffee and the ideas flow freely. ☕💡\n",
       "\n",
       "---\n",
       "\n",
       "### In Conclusion: \n",
       "\n",
       "Whether you’re looking for a home sweeter than your grandma’s cookies 🍪, seeking an investment opportunity that’ll make your wallet sing 🎶, or searching for a workplace where every day is an “Insta-worthy” adventure 📸, **Bogari International Realty** has got your back!\n",
       "\n",
       "Connect with us at:  \n",
       "📞 **+1.310.717.0029**  \n",
       "📧 **info(at)bogari(dotted)agency**\n",
       "\n",
       "Come on, future homeowner-investor-superstar! Let us help you find your dream home! Who knows, maybe one day we’ll be laughing together on that rooftop mini-golf course! \n",
       "```\n"
      ],
      "text/plain": [
       "<IPython.core.display.Markdown object>"
      ]
     },
     "metadata": {},
     "output_type": "display_data"
    }
   ],
   "source": [
    "create_brochure(\"Bogariagency\", \"http://bogariagency.com/\")"
   ]
  },
  {
   "cell_type": "code",
   "execution_count": 60,
   "id": "112c276a-cc19-4846-9a22-add214a2c1a3",
   "metadata": {
    "tags": []
   },
   "outputs": [],
   "source": [
    "\n",
    "def stream_brochure(company_name, url):\n",
    "    stream = openai.chat.completions.create(\n",
    "        model=MODEL,\n",
    "        messages=[\n",
    "            {\"role\": \"system\", \"content\": system_prompt},\n",
    "            {\"role\": \"user\", \"content\": get_brochure_user_prompt(company_name, url)}\n",
    "          ],\n",
    "        stream=True\n",
    "    )\n",
    "    \n",
    "    #for chunk in stream in stream:\n",
    "        #print(chunk.choices[0].delta.content or '',end ='')\n",
    "    \n",
    "    response = \"\"\n",
    "    display_handle = display(Markdown(\"\"), display_id=True)\n",
    "    for chunk in stream:\n",
    "        response += chunk.choices[0].delta.content or ''\n",
    "        response = response.replace(\"```\",\"\").replace(\"markdown\", \"\")\n",
    "        update_display(Markdown(response), display_id=display_handle.display_id)\n"
   ]
  },
  {
   "cell_type": "code",
   "execution_count": 61,
   "id": "40efb8c4-88a5-4724-a27e-fc39e2929096",
   "metadata": {
    "tags": []
   },
   "outputs": [
    {
     "name": "stdout",
     "output_type": "stream",
     "text": [
      "Found links: {'links': [{'type': 'home page', 'url': 'http://bogariagency.com/'}, {'type': 'about page', 'url': 'http://bogariagency.com/about-farideh/'}, {'type': 'development page', 'url': 'http://bogariagency.com/development/'}, {'type': 'contact page', 'url': 'http://bogariagency.com/contact/'}, {'type': 'testimonials page', 'url': 'http://bogariagency.com/testimonials/'}, {'type': 'press page', 'url': 'http://bogariagency.com/press/'}]}\n"
     ]
    },
    {
     "data": {
      "text/markdown": [
       "# Welcome to Bogari International Realty\n",
       "*Where Luxury Meets Leisure in Real Estate Management... with a Dash of Fun!*\n",
       "\n",
       "---\n",
       "\n",
       "## About Us: The *Faye*-tastic Team\n",
       "At **Bogari International Realty**, we don't just sell or manage properties; we craft unique experiences wrapped in luxury! Founded by the incredible **Farideh \"Faye\" Bogari**, our team has offices spanning Beverly Hills, New York, and the scenic streets of Vienna. Think of us as the *UN of Real Estate*—our mission? Making property dreams come true across borders!\n",
       "\n",
       "---\n",
       "\n",
       "## Our Properties: A Little Something for Everyone\n",
       "From stunning homes that scream \"Yes, please!\" to sprawling commercial spaces that fit your every delight (we're talking rooftop mini-golf, people!), we've got it all:\n",
       "\n",
       "- Residential estates so fine they’ll make your Pinterest boards blush.\n",
       "- Commercial spaces that feel like they could double as a luxury hotel (because why not?).\n",
       "- Development projects that we build from scratch—like a gourmet sandwich, but with walls!\n",
       "\n",
       "---\n",
       "\n",
       "## Customers: Who Do We Serve?\n",
       "We cater to anyone with a taste for the finer things in life! Whether you’re a first-time homebuyer confused by the *MLS search* (Don’t worry, it's not the latest Major League Soccer league) or a seasoned investor looking to expand your portfolio, we’re here to help you every step of the way.\n",
       "\n",
       "But don’t just take our word for it—here’s what some of our customers have to say:\n",
       "\n",
       "> “Faye's commitment is unrivaled! She makes every deal feel like a walk in the park... if that park had luxurious villas!” - **James Jurdi**\n",
       "\n",
       "> “Faye is seriously persistent, diligent, and she HAS A POSITIVE VIBE! I mean, who can negotiate an embassy deal with a smile?!” - **Hassan Shawaf** \n",
       "\n",
       "> “Living in the best home in California, complete with a rooftop golf course? Yes, please! Who said luxury can't be fun?” - **Josh Swartz**\n",
       "\n",
       "---\n",
       "\n",
       "## Company Culture: We're All About Faye-ly!\n",
       "At Bogari, we like to keep it professional but fun—think *Corporate Champs meet the Office Funnies*. Each team member embodies what we like to call being \"Faye-nomenal\": \n",
       "\n",
       "- ***Collaborative***: We believe that team brainstorming sessions should include snacks. Lots of snacks.\n",
       "- ***Client-focused***: Our clients are the stars of the show, and we roll out the red carpet (figuratively speaking... or literally, if it fits your property aesthetic!).\n",
       "- ***Innovative***: We embrace new ideas faster than you can say \"cookie dough ice cream!\"\n",
       "\n",
       "---\n",
       "\n",
       "## Join the Faye-volution! Careers at Bogari\n",
       "Have a knack for creating or managing luxurious spaces? Want to work in a place where laughter and innovation collide? Then we want you on our team!\n",
       "\n",
       "Browse our website for the latest open positions, and get ready to say goodbye to mundane jobs. Here, we create luxury—one smile at a time!\n",
       "\n",
       "---\n",
       "\n",
       "## Contact Us\n",
       "Ready to dive into your next property adventure? Call us at **+1.310.717.0029** or drop us a line at **info(at)Bogari(dotted)Agency**. Let’s make your dreams as big as your house can be!\n",
       "\n",
       "---\n",
       "\n",
       "*Bogari International Realty: The only real estate company where laughter and luxury go hand in hand!* 🏡✨"
      ],
      "text/plain": [
       "<IPython.core.display.Markdown object>"
      ]
     },
     "metadata": {},
     "output_type": "display_data"
    }
   ],
   "source": [
    "stream_brochure(\"Bogariagency\", \"http://bogariagency.com/\")"
   ]
  },
  {
   "cell_type": "code",
   "execution_count": null,
   "id": "cc8e370e-e02d-4830-a711-033cd5835826",
   "metadata": {},
   "outputs": [],
   "source": []
  }
 ],
 "metadata": {
  "kernelspec": {
   "display_name": "Python 3",
   "language": "python",
   "name": "python3"
  },
  "language_info": {
   "codemirror_mode": {
    "name": "ipython",
    "version": 3
   },
   "file_extension": ".py",
   "mimetype": "text/x-python",
   "name": "python",
   "nbconvert_exporter": "python",
   "pygments_lexer": "ipython3",
   "version": "3.8.20"
  }
 },
 "nbformat": 4,
 "nbformat_minor": 5
}
