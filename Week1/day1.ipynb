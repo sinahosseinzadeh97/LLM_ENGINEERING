{
 "cells": [
  {
   "cell_type": "code",
   "execution_count": 1,
   "id": "57874ab5-6629-4313-b225-4c12b2f5eadf",
   "metadata": {
    "tags": []
   },
   "outputs": [],
   "source": [
    "import os\n",
    "import requests\n",
    "from dotenv import load_dotenv\n",
    "from bs4 import BeautifulSoup\n",
    "from IPython.display import Markdown, display\n",
    "from openai import OpenAI"
   ]
  },
  {
   "cell_type": "code",
   "execution_count": 2,
   "id": "b00ab428-dfec-49cf-be47-86aae34e0ad6",
   "metadata": {
    "tags": []
   },
   "outputs": [
    {
     "name": "stdout",
     "output_type": "stream",
     "text": [
      "API key found and looks good so far!\n"
     ]
    }
   ],
   "source": [
    "#Load Enviroment variables in a file called .env\n",
    "load_dotenv()\n",
    "api_key = os.getenv('OPEN_API_KEY')\n",
    "#Check the key\n",
    "if not api_key:\n",
    "    print(\"No Api key was found\")\n",
    "elif api_key.strip() !=api_key:\n",
    "    print(\"An API key was foun,but it looks like it might have a space or tab charachters at the start or end-please remove it\")\n",
    "else:\n",
    "    print(\"API key found and looks good so far!\")"
   ]
  },
  {
   "cell_type": "code",
   "execution_count": 3,
   "id": "2ef17fe6-096e-47f8-966d-d7d3f28cb79b",
   "metadata": {
    "tags": []
   },
   "outputs": [],
   "source": [
    "import openai\n",
    "openai.api_key=api_key"
   ]
  },
  {
   "cell_type": "code",
   "execution_count": 4,
   "id": "36b4b2a7-7e74-4f90-a297-6184572f07ea",
   "metadata": {
    "tags": []
   },
   "outputs": [],
   "source": [
    "import requests\n",
    "from bs4 import BeautifulSoup\n",
    "class Website: \n",
    "    \"\"\" utility class to represent a website that we have scraped \"\"\"\n",
    "    def __init__(self,url):\n",
    "        \"\"\" create this website object from the given URL using the Beautifull Library\"\"\"\n",
    "        self.url = url\n",
    "        response = requests.get(url)\n",
    "        if response.status_code!=200:\n",
    "            raise Exception(f\"Failed to fetch URL :{url},Status Code :{response.status_code}\")\n",
    "        soup = BeautifulSoup(response.content,'html.parser')\n",
    "        self.title = soup.title.string if soup.title else \"No Title Found \"\n",
    "        # Remove unnecessary elements \n",
    "        for irrelevent in soup.body([\"script\",\"style\",\"img\",\"input\"]):\n",
    "            irrelevent.decompose()\n",
    "        self.text = soup.body.get_text(separator =\"\\n\",strip=True) if soup.body else \"No text founde\"\n",
    "            "
   ]
  },
  {
   "cell_type": "code",
   "execution_count": 39,
   "id": "b65d6799-95cd-40c2-bb61-760654c7ec1a",
   "metadata": {
    "tags": []
   },
   "outputs": [],
   "source": [
    "#web = Website(\"http://bogariagency.com/\")\n",
    "#print(web.title)\n",
    "#print(web.text)"
   ]
  },
  {
   "cell_type": "code",
   "execution_count": 40,
   "id": "2b60509b-e0da-45f8-a4c7-7283b7cf3100",
   "metadata": {
    "tags": []
   },
   "outputs": [],
   "source": [
    "#Define our system prompt \n",
    "system_prompt = \"You are an assistant that analyzes the contents of a website\\\n",
    "and provides a short summary,ignoring text that might be navigation related \\\n",
    "Respond in markdown\""
   ]
  },
  {
   "cell_type": "code",
   "execution_count": 73,
   "id": "81a74817-52ec-4225-99df-55f1d1ed6847",
   "metadata": {},
   "outputs": [],
   "source": [
    "def user_prompt_for(website):\n",
    "    user_prompt = f\"You are looking at the website titled: {website.title}\\n\\n\"  # ✅ Corrected\n",
    "    user_prompt += \"The contents of this website are as follows:\\n\"\n",
    "    user_prompt += \"Please provide a short summary of this website in markdown.\\n\"\n",
    "    user_prompt += \"If it includes news or announcements, then summarize these too.\\n\\n\"\n",
    "    user_prompt += website.text  # ✅ Correct usage of website.text\n",
    "    return user_prompt\n",
    "\n"
   ]
  },
  {
   "cell_type": "code",
   "execution_count": 63,
   "id": "1afb7dd9-531f-488f-88e1-b795aebb6ce1",
   "metadata": {
    "tags": []
   },
   "outputs": [
    {
     "data": {
      "text/plain": [
       "'You are an assistant that analyzes the contents of a websiteand provides a short summary,ignoring text that might be navigation related Respond in markdown'"
      ]
     },
     "execution_count": 63,
     "metadata": {},
     "output_type": "execute_result"
    }
   ],
   "source": [
    "system_prompt"
   ]
  },
  {
   "cell_type": "code",
   "execution_count": 64,
   "id": "24c9f2c9-7abe-49c0-9bd5-707c324063de",
   "metadata": {
    "tags": []
   },
   "outputs": [],
   "source": [
    "#print(user_prompt_for(web))"
   ]
  },
  {
   "cell_type": "code",
   "execution_count": 74,
   "id": "89612b8f-8d5c-4229-9113-87aae3ef65df",
   "metadata": {
    "tags": []
   },
   "outputs": [],
   "source": [
    "def messages_for(website):\n",
    "    return [\n",
    "        {\"role\": \"system\", \"content\": \"You are an AI assistant that summarizes websites.\"},\n",
    "        {\"role\": \"user\", \"content\": user_prompt_for(website)}  # ✅ Pass website object, not website.text\n",
    "    ]"
   ]
  },
  {
   "cell_type": "code",
   "execution_count": 75,
   "id": "4b1e7109-8985-4380-906d-aae47b421ea6",
   "metadata": {
    "tags": []
   },
   "outputs": [],
   "source": [
    "#messages_for(web)"
   ]
  },
  {
   "cell_type": "raw",
   "id": "343a425f-5bcf-400c-9a83-60d059aecfe3",
   "metadata": {},
   "source": [
    "Api key With OpenAi"
   ]
  },
  {
   "cell_type": "code",
   "execution_count": 76,
   "id": "67a4e0af-eef5-4226-8c8f-ced452e5c178",
   "metadata": {
    "tags": []
   },
   "outputs": [],
   "source": [
    "def summarize(url):\n",
    "    website=Website(url)\n",
    "    response = openai.chat.completions.create(\n",
    "        model=\"gpt-4o-mini\",\n",
    "        messages = messages_for(website)\n",
    "    )\n",
    "    return response.choices[0].message.content"
   ]
  },
  {
   "cell_type": "code",
   "execution_count": 77,
   "id": "8ad2e6a7-3f5a-4f4e-857e-1a6152399952",
   "metadata": {
    "tags": []
   },
   "outputs": [
    {
     "data": {
      "text/plain": [
       "'# Summary of Edward Donner\\'s Website\\n\\nEdward Donner\\'s website serves as a personal platform for sharing insights and resources related to large language models (LLMs), coding, and AI. Ed, the co-founder and CTO of Nebula.io, is passionate about leveraging AI for talent discovery and engagement. The site includes an arena called \"Outsmart,\" where LLMs compete in diplomacy and strategy. \\n\\n## About Ed\\n- Background in writing code and experimenting with LLMs.\\n- Interest in DJing and electronic music production.\\n- Previous experience as the founder of AI startup untapt, acquired in 2021.\\n\\n## News and Announcements\\n- **January 23, 2025**: Released resources for the \"LLM Workshop – Hands-on with Agents.\"\\n- **December 21, 2024**: Welcomed \"SuperDataScientists\" to the community.\\n- **November 13, 2024**: Provided resources for \"Mastering AI and LLM Engineering.\"\\n- **October 16, 2024**: Shared resources on \"From Software Engineer to AI Data Scientist.\"\\n\\nFor more information or to connect, visitors can reach out via email or follow Ed on various social media platforms.'"
      ]
     },
     "execution_count": 77,
     "metadata": {},
     "output_type": "execute_result"
    }
   ],
   "source": [
    "summarize(\"https://edwarddonner.com\")"
   ]
  },
  {
   "cell_type": "code",
   "execution_count": 84,
   "id": "95852b08-e91d-48ce-b13f-5979aca68145",
   "metadata": {
    "tags": []
   },
   "outputs": [],
   "source": [
    "def display_summary(url):\n",
    "    summary=summarize(url)\n",
    "    display(Markdown(summary))"
   ]
  },
  {
   "cell_type": "code",
   "execution_count": 89,
   "id": "52f4c6ac-a8ac-4bca-9e6c-6fc2aee65618",
   "metadata": {
    "tags": []
   },
   "outputs": [
    {
     "data": {
      "text/markdown": [
       "# Summary of نرخ ارز | شبکه اطلاع‌رسانی طلا و ارز\n",
       "\n",
       "The \"نرخ ارز\" website provides comprehensive information about the gold and currency markets in Iran. It includes real-time data on gold prices (such as 18-carat and 24-carat gold), various currency rates (including USD, EUR, GBP, AED), and local exchange rates. \n",
       "\n",
       "## Key Features:\n",
       "- **Gold and Currency Pricing**: \n",
       "  - Live updates on gold prices and comparisons (مثقال, آبشده).\n",
       "  - Exchange rates for major currencies.\n",
       "- **Market Analysis**: \n",
       "  - Information on the gold, currency, and stock markets.\n",
       "  - Historical price archives for various currencies and commodities.\n",
       "- **Mobile Application**: \n",
       "  - Availability of apps for Android and iPhone for easy access to market data.\n",
       "  \n",
       "## Recent News / Announcements:\n",
       "The website also features recent price changes in currencies and gold:\n",
       "- **USD Rate**: 902,850 IRR\n",
       "- **EUR Rate**: 940,200 IRR\n",
       "- **GBP Rate**: 1,127,400 IRR\n",
       "- **Gold Rate**: 64,171,000 IRR for 18-carat gold.\n",
       "  \n",
       "## Additional Information:\n",
       "- The site explains different types of exchange rates including free market rates, state rates, SENA rates, NEEMA rates, and more. It discusses their significance and the way they impact transactions in Iran.\n",
       "\n",
       "This resource serves as an essential tool for individuals needing up-to-date financial information regarding gold and the currency exchange market in Iran."
      ],
      "text/plain": [
       "<IPython.core.display.Markdown object>"
      ]
     },
     "metadata": {},
     "output_type": "display_data"
    }
   ],
   "source": [
    "display_summary(\"https://www.tgju.org/currency\")"
   ]
  },
  {
   "cell_type": "code",
   "execution_count": null,
   "id": "d68a0865-c220-4a7d-ac83-88a23a41b525",
   "metadata": {},
   "outputs": [],
   "source": []
  },
  {
   "cell_type": "code",
   "execution_count": null,
   "id": "bce91180-350b-4d8f-90b3-1086f00a6fa2",
   "metadata": {},
   "outputs": [],
   "source": []
  }
 ],
 "metadata": {
  "kernelspec": {
   "display_name": "Python 3",
   "language": "python",
   "name": "python3"
  },
  "language_info": {
   "codemirror_mode": {
    "name": "ipython",
    "version": 3
   },
   "file_extension": ".py",
   "mimetype": "text/x-python",
   "name": "python",
   "nbconvert_exporter": "python",
   "pygments_lexer": "ipython3",
   "version": "3.8.20"
  }
 },
 "nbformat": 4,
 "nbformat_minor": 5
}
