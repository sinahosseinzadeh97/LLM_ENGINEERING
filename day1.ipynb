import os
import requests
from dotenv import load_dotenv
from bs4 import BeautifulSoup
from IPython.display import Markdown, display
from openai import OpenAI
#Load Enviroment variables in a file called .env
load_dotenv()
api_key = os.getenv('OPEN_API_KEY')
#Check the key
if not api_key:
    print("No Api key was found")
elif api_key.strip() !=api_key:
    print("An API key was foun,but it looks like it might have a space or tab charachters at the start or end-please remove it")
else:
    print("API key found and looks good so far!")
import openai
openai.api_key=api_key
import requests
from bs4 import BeautifulSoup

class Website:
    """ 
    A utility class to represent a website that we have scraped.
    """
    def __init__(self, url):
        """
        Create this website object from the given URL using the BeautifulSoup library.
        """
        self.url = url
        response = requests.get(url) 
        
        if response.status_code != 200:
            raise Exception(f"Failed to fetch URL: {url}, Status Code: {response.status_code}")

        soup = BeautifulSoup(response.content, 'html.parser')
        
        
        self.title = soup.title.string if soup.title else "No Title Found"
        for irrelevant in soup.body(["script", "style", "img", "input"]):
            irrelevant.decompose()

       
        self.text = soup.body.get_text(separator="\n", strip=True) if soup.body else "No Text Found"
